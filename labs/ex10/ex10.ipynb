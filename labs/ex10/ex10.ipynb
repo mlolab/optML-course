{
  "cells": [
    {
      "attachments": {},
      "cell_type": "markdown",
      "id": "fc3b18ae",
      "metadata": {},
      "source": [
        "<a target=\"_blank\" href=\"https://colab.research.google.com/github/mlolab/optML-course/blob/main/labs/ex10/ex10.ipynb\">\n",
        "  <img src=\"https://colab.research.google.com/assets/colab-badge.svg\" alt=\"Open In Colab\"/>\n",
        "</a>"
      ]
    },
    {
      "attachments": {},
      "cell_type": "markdown",
      "id": "2410bfdc-82ef-46ce-8fcd-5f26179dcea5",
      "metadata": {
        "id": "2410bfdc-82ef-46ce-8fcd-5f26179dcea5",
        "tags": []
      },
      "source": [
        "## Federated Learning Tutorial: Effect of Data Heterogenity\n",
        "\n",
        "Federated Learning is a distributed approach where multiple devices train a global model without sharing raw data. In this notebook, we'll study the impact of data heterogeneity on Logistic Regression and Deep Convolutional Neural Network models in Federated Learning. The process involves:\n",
        "\n",
        "1. **Initialization:** Start with a global model.\n",
        "2. **Client Selection:** Choose clients to participate in training.\n",
        "3. **Local Model Training:** Clients train the global model using their local data.\n",
        "4. **Model Update Exchange:** Clients send their updated model weights to a central server.\n",
        "5. **Model Aggregation:** The server averages the received model weights.\n",
        "6. **Global Model Update:** The aggregated model weights are applied to the global model.\n",
        "7.**Repeat:** Steps 2-6 are repeated for multiple rounds.\n",
        "\n",
        "We'll analyze how variations in data heterogeneity impact the convergence and performance of the models, considering factors like data distributions and class imbalances.\n",
        "\n"
      ]
    },
    {
      "attachments": {},
      "cell_type": "markdown",
      "id": "73f64412-4b35-42c1-add5-473750374b44",
      "metadata": {
        "id": "73f64412-4b35-42c1-add5-473750374b44",
        "tags": []
      },
      "source": [
        "### Imports"
      ]
    },
    {
      "cell_type": "code",
      "execution_count": null,
      "id": "fc9c809e-ade8-4007-925f-712debae15f9",
      "metadata": {
        "id": "fc9c809e-ade8-4007-925f-712debae15f9"
      },
      "outputs": [],
      "source": [
        "# Standard Python imports\n",
        "import os\n",
        "import random\n",
        "import time\n",
        "\n",
        "## Python Packages\n",
        "import numpy as np\n",
        "import matplotlib.pyplot as plt\n",
        "import pandas as pd\n",
        "import tqdm\n",
        "\n",
        "## PyTorch\n",
        "\n",
        "import torch\n",
        "import torch.nn as nn\n",
        "import torch.optim as optim\n",
        "import copy\n",
        "from torch.utils.data import DataLoader, Dataset\n",
        "import torch.nn.functional as F\n",
        "from torch.utils.data import Subset, random_split\n",
        "\n",
        "## Torchvision\n",
        "import torchvision\n",
        "from torchvision import transforms\n",
        "from torchvision.datasets import MNIST\n",
        "\n",
        "\n",
        "### Jupyter\n",
        "import ipywidgets as widgets\n",
        "from ipywidgets import HBox, VBox\n",
        "import numpy as np\n",
        "import matplotlib.pyplot as plt\n",
        "from IPython.display import display\n",
        "%matplotlib inline"
      ]
    },
    {
      "attachments": {},
      "cell_type": "markdown",
      "id": "rIoI16wDJ7OJ",
      "metadata": {
        "id": "rIoI16wDJ7OJ"
      },
      "source": [
        "### Helper Functions"
      ]
    },
    {
      "cell_type": "code",
      "execution_count": null,
      "id": "r2-0LXySv9nr",
      "metadata": {
        "id": "r2-0LXySv9nr"
      },
      "outputs": [],
      "source": [
        "def mnist_iid(dataset, num_users):\n",
        "\n",
        "    num_items = int(len(dataset)/num_users)\n",
        "    dict_users, all_idxs = {}, [i for i in range(len(dataset))]\n",
        "    for i in range(num_users):\n",
        "        dict_users[i] = set(np.random.choice(all_idxs, num_items,\n",
        "                                             replace=False))\n",
        "        all_idxs = list(set(all_idxs) - dict_users[i])\n",
        "    return dict_users\n",
        "\n",
        "def distribution_noniid(dataset, num_clients, num_classes=10, alpha=0.5):\n",
        "    idx = [torch.where(dataset.targets == i) for i in range(num_classes)]\n",
        "    data = [dataset.data[idx[i][0]] for i in range(num_classes)]\n",
        "\n",
        "    s = np.random.dirichlet(np.ones(num_classes) * alpha, num_clients)\n",
        "\n",
        "    data_dist = np.zeros((num_clients, num_classes))\n",
        "    for j in range(num_clients):\n",
        "        data_dist[j] = ((s[j] * len(data[0])).astype('int') / (s[j] * len(data[0])).astype('int').sum() * len(data[0])).astype('int')\n",
        "        data_num = data_dist[j].sum()\n",
        "        data_dist[j][np.random.randint(low=0, high=num_classes)] += (len(data[0]) - data_num)\n",
        "        data_dist = data_dist.astype('int')\n",
        "\n",
        "    dict_users = {}\n",
        "    for j in range(num_clients):\n",
        "        dict_users[j] = []\n",
        "        for i in range(num_classes):\n",
        "            d_index = np.random.choice(idx[i][0], size=data_dist[j][i], replace=False)\n",
        "            dict_users[j].extend(d_index.tolist())\n",
        "\n",
        "    return dict_users"
      ]
    },
    {
      "cell_type": "code",
      "execution_count": null,
      "id": "zV31nPjXagPl",
      "metadata": {
        "id": "zV31nPjXagPl"
      },
      "outputs": [],
      "source": [
        "import torch\n",
        "import numpy as np\n",
        "from torch.utils.data import Subset\n",
        "\n",
        "def subsample_mnist(train_dataset, subsampling_ratio=0.25):\n",
        "    class_counts = torch.bincount(train_dataset.targets)\n",
        "    num_samples_per_class = int(subsampling_ratio * torch.min(class_counts))\n",
        "    indices = []\n",
        "\n",
        "    for class_label in range(10):\n",
        "        class_indices = torch.where(train_dataset.targets == class_label)[0]\n",
        "        selected_indices = np.random.choice(class_indices, num_samples_per_class, replace=False)\n",
        "        indices.extend(selected_indices.tolist())\n",
        "\n",
        "    subset = Subset(train_dataset, indices)\n",
        "    subset.targets = train_dataset.targets[indices]\n",
        "    subset.data = train_dataset.data[indices]\n",
        "\n",
        "    return subset\n"
      ]
    },
    {
      "cell_type": "code",
      "execution_count": null,
      "id": "Pn6CcmqIOsjW",
      "metadata": {
        "id": "Pn6CcmqIOsjW"
      },
      "outputs": [],
      "source": [
        "def get_dataset(num_clients, num_classes = 10, alpha = 0.5):\n",
        "    data_dir = '../data/mnist/'\n",
        "\n",
        "\n",
        "    apply_transform = transforms.Compose([\n",
        "        transforms.Resize((32, 32)),\n",
        "        transforms.ToTensor(),\n",
        "        transforms.Normalize((0.1307,), (0.3081,))])\n",
        "\n",
        "    train_dataset = MNIST(data_dir, train=True, download=True,\n",
        "                                    transform=apply_transform)\n",
        "\n",
        "    test_dataset = MNIST(data_dir, train=False, download=True,\n",
        "                                  transform=apply_transform)\n",
        "    train_dataset, test_dataset = subsample_mnist(train_dataset, 0.25), subsample_mnist(test_dataset, 0.25)\n",
        "\n",
        "    train_user_groups = distribution_noniid(train_dataset, num_clients, num_classes = 10, alpha = alpha)\n",
        "\n",
        "    return train_dataset, test_dataset, train_user_groups\n"
      ]
    },
    {
      "cell_type": "code",
      "execution_count": null,
      "id": "6u6_CRcuQUpI",
      "metadata": {
        "id": "6u6_CRcuQUpI"
      },
      "outputs": [],
      "source": [
        "class DatasetSplit(Dataset):\n",
        "    def __init__(self, dataset, idxs):\n",
        "        self.dataset = dataset\n",
        "        self.idxs = [int(i) for i in idxs]\n",
        "\n",
        "    def __len__(self):\n",
        "        return len(self.idxs)\n",
        "\n",
        "    def __getitem__(self, item):\n",
        "        image, label = self.dataset[self.idxs[item]]\n",
        "        return image, label"
      ]
    },
    {
      "attachments": {},
      "cell_type": "markdown",
      "id": "d099f98e-a599-461d-806a-579bb133db8c",
      "metadata": {
        "id": "d099f98e-a599-461d-806a-579bb133db8c"
      },
      "source": [
        "#### Plotting Function"
      ]
    },
    {
      "cell_type": "code",
      "execution_count": null,
      "id": "4cf6aec5-87e3-400f-a60d-a1798c58a50e",
      "metadata": {
        "id": "4cf6aec5-87e3-400f-a60d-a1798c58a50e"
      },
      "outputs": [],
      "source": [
        "def plot_image_grid(images, ncols=None, cmap=\"gray\", column_titles=None):\n",
        "    if not ncols:\n",
        "        factors = [i for i in range(1, len(images) + 1) if len(images) % i == 0]\n",
        "        ncols = factors[len(factors) // 2] if len(factors) else len(images) // 4 + 1\n",
        "    nrows = int(len(images) / ncols) + int(len(images) % ncols)\n",
        "    imgs = [images[i] if len(images) > i else None for i in range(nrows * ncols)]\n",
        "    f, axes = plt.subplots(nrows, ncols, figsize=(14, 8), dpi=80)\n",
        "    axes = axes.flatten()[: len(imgs)]\n",
        "    for img, ax in zip(imgs, axes.flatten()):\n",
        "        if np.any(img):\n",
        "            ax.imshow(img)\n",
        "            if column_titles:\n",
        "                for i, title in enumerate(column_titles):\n",
        "                    axes[i].set_title(title)"
      ]
    },
    {
      "attachments": {},
      "cell_type": "markdown",
      "id": "116f9a2d-d6ec-46d3-b9c5-270101fe05af",
      "metadata": {
        "id": "116f9a2d-d6ec-46d3-b9c5-270101fe05af",
        "tags": []
      },
      "source": [
        "### Model definitions"
      ]
    },
    {
      "cell_type": "code",
      "execution_count": null,
      "id": "25fefd28-019d-40ef-82fb-f9d7ceca1c7a",
      "metadata": {
        "id": "25fefd28-019d-40ef-82fb-f9d7ceca1c7a"
      },
      "outputs": [],
      "source": [
        "class LeNet5(nn.Module):\n",
        "    def __init__(self, num_classes):\n",
        "        super(LeNet5, self).__init__()\n",
        "        self.layer1 = nn.Sequential(\n",
        "            nn.Conv2d(1, 6, kernel_size=5, stride=1, padding=0),\n",
        "            nn.BatchNorm2d(6),\n",
        "            nn.ReLU(),\n",
        "            nn.MaxPool2d(kernel_size = 2, stride = 2))\n",
        "        self.layer2 = nn.Sequential(\n",
        "            nn.Conv2d(6, 16, kernel_size=5, stride=1, padding=0),\n",
        "            nn.BatchNorm2d(16),\n",
        "            nn.ReLU(),\n",
        "            nn.MaxPool2d(kernel_size = 2, stride = 2))\n",
        "        self.fc = nn.Linear(400, 120)\n",
        "        self.relu = nn.ReLU()\n",
        "        self.fc1 = nn.Linear(120, 84)\n",
        "        self.relu1 = nn.ReLU()\n",
        "        self.fc2 = nn.Linear(84, num_classes)\n",
        "\n",
        "    def forward(self, x):\n",
        "        out = self.layer1(x)\n",
        "        out = self.layer2(out)\n",
        "        out = out.reshape(out.size(0), -1)\n",
        "        out = self.fc(out)\n",
        "        out = self.relu(out)\n",
        "        out = self.fc1(out)\n",
        "        out = self.relu1(out)\n",
        "        out = self.fc2(out)\n",
        "        return out"
      ]
    },
    {
      "cell_type": "code",
      "execution_count": null,
      "id": "L1wqMul3AKaT",
      "metadata": {
        "id": "L1wqMul3AKaT"
      },
      "outputs": [],
      "source": [
        "class LogReg(nn.Module):\n",
        "  def __init__(self):\n",
        "    super(LogReg, self).__init__()\n",
        "    self.in_layer = nn.Linear(1 * 32 * 32, 10)\n",
        "\n",
        "  def forward(self, x):\n",
        "    x = self.in_layer(x.view(-1, 1024))\n",
        "    return x"
      ]
    },
    {
      "cell_type": "code",
      "execution_count": null,
      "id": "yE829PS3Qn7a",
      "metadata": {
        "id": "yE829PS3Qn7a"
      },
      "outputs": [],
      "source": [
        "class FedAvg(nn.Module):\n",
        "  def __init__(self, train_params):\n",
        "    super(FedAvg, self).__init__()\n",
        "\n",
        "    self.device = torch.device('cuda' if torch.cuda.is_available() else 'cpu')\n",
        "    self.num_clients = train_params['num_clients']\n",
        "    self.alpha = train_params['alpha']\n",
        "    self.train_ds, self.test_ds, self.train_splits = get_dataset(num_clients=self.num_clients, alpha=self.alpha)\n",
        "\n",
        "    self.lr = 0.01\n",
        "    self.local_epochs = train_params['local_epochs']\n",
        "    self.criterion = nn.CrossEntropyLoss()\n",
        "    self.task_type = train_params['task_type']\n",
        "\n",
        "    if self.task_type == 'logistic-regression':\n",
        "      self.global_model = LogReg()\n",
        "    else:\n",
        "      self.global_model = LeNet5(10)\n",
        "    self.global_model.to(self.device)\n",
        "    self.local_model_list = [copy.deepcopy(self.global_model) for _ in range(self.num_clients)]\n",
        "    self.optimizer_list = [optim.SGD(model.parameters(), lr = self.lr) for model in self.local_model_list]\n",
        "    self.test_dl = self.create_dataloaders(test_dataset = self.test_ds)\n",
        "\n",
        "\n",
        "  def create_dataloaders(self, train_dataset = None, idxs_train = None, test_dataset = None):\n",
        "        if train_dataset is not None and idxs_train is not None:\n",
        "\n",
        "          trainloader = DataLoader(DatasetSplit(train_dataset, idxs_train),\n",
        "                                  batch_size=32, shuffle=True)\n",
        "          return trainloader\n",
        "        if test_dataset is not None:\n",
        "          testloader = DataLoader(test_dataset, batch_size=32, shuffle=False)\n",
        "          return testloader\n",
        "\n",
        "  def train_one_round(self):\n",
        "    for client_idx, (model, split, optim) in enumerate(zip(self.local_model_list, self.train_splits, self.optimizer_list)):\n",
        "      model.train()\n",
        "      train_dl = self.create_dataloaders(train_dataset = self.train_ds, idxs_train = self.train_splits[client_idx])\n",
        "      print(f'Training Client {client_idx}')\n",
        "      for epochs in range(self.local_epochs):\n",
        "        for (data, label) in tqdm.tqdm(train_dl):\n",
        "          optim.zero_grad()\n",
        "          data, label = data.to(self.device), label.to(self.device)\n",
        "          output = model(data)\n",
        "          loss = self.criterion(output, label)\n",
        "          loss.backward()\n",
        "          optim.step()\n",
        "\n",
        "    global_dict = self.global_model.state_dict()\n",
        "    total_size = len(self.train_ds)\n",
        "    ds_size_list = [len(self.train_splits[k]) for k in self.train_splits]\n",
        "    for k in global_dict.keys():\n",
        "        weights = [self.local_model_list[i].state_dict()[k] * (ds_size_list[i] / total_size) for i in range(len(self.local_model_list))]\n",
        "        global_dict[k] = sum(weights)\n",
        "    self.global_model.load_state_dict(global_dict)\n",
        "\n",
        "    return self.global_model\n",
        "\n",
        "  def test_global_model(self):\n",
        "    test_loss = 0\n",
        "    correct = 0\n",
        "    self.global_model.eval()\n",
        "\n",
        "    with torch.no_grad():\n",
        "      for data, label in tqdm.tqdm(self.test_dl):\n",
        "        data, label = data.to(self.device), label.to(self.device)\n",
        "        output = self.global_model(data)\n",
        "        test_loss += self.criterion(output, label)\n",
        "        pred = output.argmax(dim=1, keepdim=True)\n",
        "        correct += pred.eq(label.view_as(pred)).sum().item()\n",
        "    test_loss /= len(self.test_dl.dataset)\n",
        "    print('Test set: Average loss: {:.4f}, Accuracy: {}/{} ({:.0f}%'.format( test_loss, correct, len(self.test_dl.dataset), 100. * correct / len(self.test_dl.dataset)))\n",
        "\n",
        "    return 100. * correct / len(self.test_dl.dataset)\n"
      ]
    },
    {
      "attachments": {},
      "cell_type": "markdown",
      "id": "HQwvXEB0gdws",
      "metadata": {
        "id": "HQwvXEB0gdws"
      },
      "source": [
        "## Part One: Visualizing Heterogenous (Non-IID) data\n",
        "A common method to simulate Non-IID data distributions from exisiting IID datasets is via the use of the Dirichlet Distribution.\n",
        "\n",
        "The Dirichlet distribution is a way to generate data for different categories. The concentration parameters, denoted as α, determine the characteristics of the generated data. When the concentration parameters are equal, the generated data is independent and evenly distributed (IID).\n",
        "\n",
        "To simulate non-IID data, we can vary the concentration parameters. By setting different values for α, we introduce biases and correlations among the categories. Higher values for α make a category more likely, while lower values make it less likely.\n",
        "\n",
        "In essence, tweaking α allows us to control the behavior of the generated data, making it non-IID by introducing variations, biases, and correlations among the categories.\n",
        "\n",
        "![7ZiDs.png](data:image/png;base64,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)\n",
        "\n",
        "[Source](https://stats.stackexchange.com/questions/244917/what-exactly-is-the-alpha-in-the-dirichlet-distribution)\n",
        "\n",
        "In this exercise, you can visualize Non-IID data distribution variations by adjusting 'alpha' (Dirichlet distribution parameter), the number of clients, and comparing with the IID option.\n",
        "\n",
        "Observations on varying alpha and its impact on data distribution at each client:\n",
        "\n",
        "- For smaller alpha values, the data distribution tends to be more skewed towards specific classes, resulting in class imbalances within clients.\n",
        "- Larger alpha values lead to a more uniform distribution across classes for each client, reducing class imbalances.\n",
        "\n",
        "Plot description:\n",
        "\n",
        "- Each bar represents a client.\n",
        "- Colors represent different class labels.\n",
        "- The width of each bar corresponds to the number of samples for a specific class in a given client."
      ]
    },
    {
      "cell_type": "code",
      "execution_count": null,
      "id": "8xFfK_Y-gvvG",
      "metadata": {
        "id": "8xFfK_Y-gvvG"
      },
      "outputs": [],
      "source": [
        "@widgets.interact(alpha=widgets.RadioButtons(options=[0.01, 0.5, 1.5, 25]), num_clients=widgets.RadioButtons(options=[2, 3, 4, 9, 10]))\n",
        "def plot_distribution(alpha, num_clients):\n",
        "\n",
        "    train_dataset, test_dataset, train_user_groups = get_dataset(num_clients=num_clients, alpha=alpha)\n",
        "    data = [train_dataset.targets[list(train_user_groups[i])].numpy() for i in range(num_clients)]\n",
        "\n",
        "\n",
        "    colors = {0: 'red', 1: 'green', 2: 'blue', 3: 'orange', 4: 'purple', 5: 'yellow', 6: 'pink', 7: 'cyan', 8: 'magenta', 9: 'black'}\n",
        "    num_bins = len(colors)\n",
        "\n",
        "    fig, axes = plt.subplots(nrows=len(data), ncols=1, sharex=True, sharey=True)\n",
        "    fig.subplots_adjust(hspace=2.0)\n",
        "\n",
        "    for i, d in enumerate(data):\n",
        "        counts = np.bincount(d, minlength=num_bins)\n",
        "        width = 0.2\n",
        "        left = 0\n",
        "        for j, k in enumerate(range(num_bins)):\n",
        "            count = counts[k]\n",
        "            axes[i].barh(0, count, height=width, left=left, color=colors[k])\n",
        "            left += count\n",
        "        axes[i].set_title('Client {}'.format(i+1), fontsize=8)\n",
        "        axes[i].set_yticks([])\n",
        "        axes[i].set_yticklabels([])\n",
        "        axes[i].set_xlim([0, np.sum(counts)])\n",
        "    fig.text(0.5, 0.04, 'Count', ha='center')\n",
        "    fig.text(0.04, 0.5, 'Clients', va='center', rotation='vertical')\n",
        "\n",
        "    plt.show()"
      ]
    },
    {
      "attachments": {},
      "cell_type": "markdown",
      "id": "799e6158-c419-4818-96c9-b91853b439a0",
      "metadata": {
        "id": "799e6158-c419-4818-96c9-b91853b439a0"
      },
      "source": [
        "## Part Two: Explore if (and how) data heterogenity impacts Federated Learning Training\n",
        "\n",
        "\n",
        "In this exercise, we will explore the impact of data heterogeneity on training models in a federated learning (FL) setting. Data heterogeneity refers to the non-IID or heterogeneous nature of the data distributed across clients in FL.\n",
        "\n",
        "To investigate this, we will train either a Logistic Regression classifier or a Convolutional Neural Network (CNN) model on a subset of the MNIST dataset. The training will be performed with varying combinations of alpha (representing data distribution) and the number of clients.\n",
        "\n",
        "After running the code, which may take some time, you will obtain accuracy plots on a logarithmic scale. Analyze these plots to understand the effect of data heterogeneity.\n",
        "\n",
        "In the markdown cell below the code, write your observations regarding the impact of data heterogeneity. You can also experiment by adjusting different parameters in the code cells to explore further."
      ]
    },
    {
      "cell_type": "code",
      "execution_count": null,
      "id": "LyEH4C4n6Emz",
      "metadata": {
        "id": "LyEH4C4n6Emz"
      },
      "outputs": [],
      "source": [
        "## Grid for exploration\n",
        "results_dict = {}\n",
        "\n",
        "import itertools\n",
        "\n",
        "alphas = [0.01, 0.5, 1.5, 25]\n",
        "client_nos = [5]\n",
        "local_epochs = [5]\n",
        "tasks = ['CNN', 'logistic_regression']\n",
        "rounds = 3\n",
        "\n",
        "param_combinations = list(itertools.product(alphas, client_nos, local_epochs, tasks))\n",
        "\n",
        "train_params = [{'alpha': alpha, 'num_clients': client_no, 'local_epochs': local_epoch, 'task_type': task, 'epochs': rounds} for alpha, client_no, local_epoch, task in param_combinations]"
      ]
    },
    {
      "cell_type": "code",
      "execution_count": null,
      "id": "zWugei03lrTq",
      "metadata": {
        "id": "zWugei03lrTq"
      },
      "outputs": [],
      "source": [
        "\n",
        "for train_config in train_params:\n",
        "  print('+++' * 30)\n",
        "  print(f\"Working on Task_{train_config['task_type']}, Alpha_{train_config['alpha']}, Num Clients_{train_config['num_clients']}, Local Epochs {train_config['local_epochs']}\")\n",
        "  print('+++' * 30)\n",
        "  fed_avg_model = FedAvg(train_config)\n",
        "  test_acc_list = []\n",
        "  for epoch in range(train_config['epochs']):\n",
        "    fed_avg_model.train_one_round()\n",
        "    test_acc_list.append(fed_avg_model.test_global_model())\n",
        "  results_dict[f\"Task_{train_config['task_type']}, Alpha_{train_config['alpha']}, Num Clients_{train_config['num_clients']}, Local Epochs {train_config['local_epochs']}\"] = test_acc_list\n",
        "  print('---------------')\n",
        "  print('----> Complete!')\n",
        "  print('---------------')"
      ]
    },
    {
      "attachments": {},
      "cell_type": "markdown",
      "id": "ea7vnoMVtxVE",
      "metadata": {
        "id": "ea7vnoMVtxVE"
      },
      "source": [
        "## Visualization and Exploration"
      ]
    },
    {
      "attachments": {},
      "cell_type": "markdown",
      "id": "QE6qFE6bt21H",
      "metadata": {
        "id": "QE6qFE6bt21H"
      },
      "source": [
        "What are your observations on the impact of alpha on the final training accuracy of the model?"
      ]
    },
    {
      "cell_type": "code",
      "execution_count": null,
      "id": "UJehqClS4KKL",
      "metadata": {
        "id": "UJehqClS4KKL"
      },
      "outputs": [],
      "source": [
        "import numpy as np\n",
        "import matplotlib.pyplot as plt\n",
        "\n",
        "logistic_accuracies = []\n",
        "logistic_log_alphas = []\n",
        "cnn_accuracies = []\n",
        "cnn_log_alphas = []\n",
        "\n",
        "fig, (ax1, ax2) = plt.subplots(1, 2, figsize=(12, 6))\n",
        "\n",
        "for i, key in enumerate(results_dict):\n",
        "    alpha = float(key.split(',')[1].split('_')[-1])\n",
        "    log_alpha = np.log10(alpha)\n",
        "\n",
        "    if 'logistic_regression' in key:\n",
        "        accuracy = results_dict[key][-1]\n",
        "        logistic_accuracies.append(accuracy)\n",
        "        logistic_log_alphas.append(log_alpha)\n",
        "\n",
        "    elif 'CNN' in key:\n",
        "        accuracy = results_dict[key][-1]\n",
        "        cnn_accuracies.append(accuracy)\n",
        "        cnn_log_alphas.append(log_alpha)\n",
        "\n",
        "\n",
        "ax1.plot(logistic_log_alphas, logistic_accuracies)\n",
        "ax1.set_title('Final Accuracy vs. Log Alpha (Logistic Regression)')\n",
        "ax1.set_xlabel('Log(Dirichlet Alpha)')\n",
        "ax1.set_ylabel('Final Accuracy')\n",
        "ax1.set_xticks(logistic_log_alphas)\n",
        "\n",
        "ax2.plot(cnn_log_alphas, cnn_accuracies)\n",
        "ax2.set_title('Final Accuracy vs. Log Alpha (CNN)')\n",
        "ax2.set_xlabel('Log(Dirichlet Alpha)')\n",
        "ax2.set_ylabel('Final Accuracy')\n",
        "ax2.set_xticks(cnn_log_alphas)\n",
        "\n",
        "plt.tight_layout()\n",
        "plt.show()\n"
      ]
    }
  ],
  "metadata": {
    "accelerator": "GPU",
    "colab": {
      "collapsed_sections": [
        "73f64412-4b35-42c1-add5-473750374b44",
        "rIoI16wDJ7OJ",
        "116f9a2d-d6ec-46d3-b9c5-270101fe05af"
      ],
      "gpuType": "T4",
      "provenance": []
    },
    "kernelspec": {
      "display_name": "Python 3",
      "name": "python3"
    },
    "language_info": {
      "codemirror_mode": {
        "name": "ipython",
        "version": 3
      },
      "file_extension": ".py",
      "mimetype": "text/x-python",
      "name": "python",
      "nbconvert_exporter": "python",
      "pygments_lexer": "ipython3",
      "version": "3.8.11"
    }
  },
  "nbformat": 4,
  "nbformat_minor": 5
}
